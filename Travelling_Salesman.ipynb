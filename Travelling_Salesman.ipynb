{
 "cells": [
  {
   "cell_type": "markdown",
   "metadata": {},
   "source": [
    "## Travelling Salesman Problem"
   ]
  },
  {
   "cell_type": "markdown",
   "metadata": {},
   "source": [
    "<i>\"Given a list of cities (nodes) and distances between each pair of cities (edges), what is the shortest possible route that visits each city and returns to the original city\"</i>"
   ]
  },
  {
   "cell_type": "markdown",
   "metadata": {},
   "source": [
    "### Packages"
   ]
  },
  {
   "cell_type": "markdown",
   "metadata": {},
   "source": [
    "* **random** - For generating random numbers to be used as the nodes.\n",
    "* **pandas** - Popular data analysis package in python\n",
    "* **numpy** - Popular package in python for handling arrays \n",
    "* **pulp** - Optimization package that is used in one of the solutions\n",
    "* **time** - Package used get time and calculate computational time.\n",
    "* **matplotlib** - Used for plotting data \n",
    "\n"
   ]
  },
  {
   "cell_type": "code",
   "execution_count": 1,
   "metadata": {},
   "outputs": [],
   "source": [
    "import random\n",
    "import pandas as pd\n",
    "import numpy as np\n",
    "import pulp\n",
    "import time\n",
    "import matplotlib.pyplot as plt\n",
    "%matplotlib inline"
   ]
  },
  {
   "cell_type": "markdown",
   "metadata": {},
   "source": [
    "### Space"
   ]
  },
  {
   "cell_type": "markdown",
   "metadata": {},
   "source": [
    "An object that generates nodes and stores metadata regarding said nodes. It also caclulates the distances between a pair of nodes and can show a plot of the nodes with a solution from an algorithm."
   ]
  },
  {
   "cell_type": "markdown",
   "metadata": {},
   "source": [
    "### Change self.permutations into {}"
   ]
  },
  {
   "cell_type": "code",
   "execution_count": 2,
   "metadata": {},
   "outputs": [],
   "source": [
    "class Space():\n",
    "    def __init__(self):\n",
    "        self.nodes = {}\n",
    "        self.solutions = {}\n",
    "        self.solution_total_dist = {}\n",
    "        self.distances = None\n",
    "        self.nodes_df = None\n",
    "        self.totalDistances = {}\n",
    "        self.permutations = []\n",
    "        \n",
    "        \n",
    "    def __len__(self):\n",
    "        '''\n",
    "        Returns the number of nodes available in the Space Object.\n",
    "        '''\n",
    "        \n",
    "        return len(self.nodes)\n",
    "    \n",
    "    \n",
    "    def posToChar(self,pos):\n",
    "        '''\n",
    "        Converts position (int) to a character starting with 'A'.\n",
    "        \n",
    "        pos: integer\n",
    "        '''\n",
    "        \n",
    "        return chr(pos + 65) \n",
    "    \n",
    "    \n",
    "    def intToChar(self,inte):\n",
    "        '''\n",
    "        Converts integer into an only alphabet character string \n",
    "        starting with 'A'.\n",
    "        \n",
    "        inte: integer\n",
    "        '''\n",
    "        \n",
    "        div = (inte//26)\n",
    "        rem = inte%26\n",
    "        \n",
    "        if div == 0:\n",
    "            return self.posToChar(rem)\n",
    "        else:\n",
    "            return self.posToChar(div-1) + self.posToChar(rem)\n",
    "    \n",
    "    \n",
    "    def generateNodes(self,nums):\n",
    "        '''\n",
    "        Generates unique random cooordinates given a number of nodes.\n",
    "        \n",
    "        nums: integer\n",
    "        '''\n",
    "        \n",
    "        assert len(self.nodes)==0,'Nodes already available'\n",
    "        assert nums%1 == 0, 'Input not an integer. Try again.'\n",
    "        assert nums>3,'Input must be greater than 3. Try again'\n",
    "        \n",
    "        num = 0\n",
    "        while len(self)<nums:\n",
    "            coordinates = random.sample(range(1,100), 2)\n",
    "            if coordinates not in self.nodes.values():\n",
    "                self.nodes[self.intToChar(num)] = coordinates\n",
    "                num+=1\n",
    "\n",
    "                \n",
    "    def nodesToDF(self):\n",
    "        '''\n",
    "        Creates a pandas DataFrame od distance from dictionary of nodes.\n",
    "        '''\n",
    "        assert len(self.nodes)>0,'No nodes available.'\n",
    "        \n",
    "        self.nodes_df = pd.DataFrame(list(self.nodes.values())\n",
    "                                     ,index=list(self.nodes.keys())) \\\n",
    "                                     .rename(columns = {0:'x',1:'y'})\n",
    "        return self.nodes_df\n",
    "\n",
    "        \n",
    "    def getDistances(self):\n",
    "        '''\n",
    "        Converts dictionary of node coordinates into a table of distances\n",
    "        '''\n",
    "        \n",
    "        #X's\n",
    "        dfx = self.nodes_df['x']\n",
    "        df1_x = pd.concat([dfx]*len(self), axis=1)\n",
    "        df1_x.columns = df1_x.index\n",
    "        df2_x = df1_x.T\n",
    "        \n",
    "        #Y's\n",
    "        dfy = self.nodes_df['y']\n",
    "        df1_y = pd.concat([dfy]*len(self), axis=1)\n",
    "        df1_y.columns = df1_y.index\n",
    "        df2_y = df1_y.T\n",
    "        \n",
    "        self.distances = (((df1_x-df2_x)**2) + ((df1_y-df2_y)**2))**(1/2)\n",
    "        \n",
    "        for i in self.distances.columns:\n",
    "            for j in self.distances.index:\n",
    "                self.totalDistances[(i,j)] = self.distances[i][j]\n",
    "                \n",
    "        self.distances = self.distances.replace(0,100)\n",
    "\n",
    "        return self.distances\n",
    "    \n",
    "    \n",
    "    def getDistance(self,order,end,total_distance):\n",
    "        '''\n",
    "        Outputs the distances from an input list. Uses memoization the store \n",
    "        previous calculations.\n",
    "        \n",
    "        order: tuple of node names in their respective order\n",
    "        end: end of range to get distance\n",
    "        total_distance: total distance (output)\n",
    "        '''\n",
    "        \n",
    "        if end == len(order)+1:\n",
    "            return total_distance\n",
    "        \n",
    "        elif order[:end] in self.totalDistances:\n",
    "            total_distance = self.totalDistances[order[:end]]\n",
    "            return self.getDistance(order,end+1,total_distance)\n",
    "        else:\n",
    "            total_distance = self.totalDistances[order[:end-1]] + \\\n",
    "                             self.distances[order[end-2]][order[end-1]]\n",
    "            self.totalDistances[order[:end]] = total_distance\n",
    "            \n",
    "            return self.getDistance(order,end+1,total_distance)\n",
    "\n",
    "        \n",
    "    def getTotalDistance(self,order,solution_key=None):\n",
    "        '''\n",
    "        Outputs the total distances including the closing connection. Stores \n",
    "        output in solution_total_dist dictionary under the solution_key.\n",
    "        \n",
    "        order: order of nodes to calculate\n",
    "        solution_key: name of this order\n",
    "        '''\n",
    "        \n",
    "        order = tuple(order)\n",
    "        self.total_distance = self.getDistance(order,2,0)\n",
    "        self.total_distance += self.distances[order[-1]][order[0]]\n",
    "        \n",
    "        if solution_key is not None:\n",
    "            self.solution_total_dist[solution_key] = self.total_distance \n",
    "            \n",
    "        return self.total_distance\n",
    "        \n",
    "        \n",
    "    def plot(self,solution_key,kind):\n",
    "        '''\n",
    "        Plots all nodes and edges (depending on solution_key) in space.\n",
    "        \n",
    "        solution_key: name of solution\n",
    "        kind: 'char' - only shows node name\n",
    "              'coor' - only shows coordinates of node\n",
    "              'both' - shows both name and coordinates of nodes\n",
    "        '''\n",
    "        \n",
    "        solution_total_dist = str(np.round(self.solution_total_dist[solution_key]\n",
    "                                           ,2)) \n",
    "        \n",
    "        fig, ax = plt.subplots(figsize=(10,10))\n",
    "        self.nodes_df.plot(kind='scatter', \n",
    "                           x='x', y='y',\n",
    "                           title=str(solution_key) +': '+ solution_total_dist, \n",
    "                           grid=True,\n",
    "                           fontsize=10, \n",
    "                           ax=ax,\n",
    "                           xlim = (0,100),\n",
    "                           ylim=(0,100)) \n",
    "        \n",
    "        for i in range(-1,len(self.solutions[solution_key])-1):\n",
    "            j = self.solutions[solution_key][i]\n",
    "            k = self.solutions[solution_key][i+1]\n",
    "            \n",
    "            ax.plot((self.nodes[j][0],self.nodes[k][0]),\n",
    "                    (self.nodes[j][1],self.nodes[k][1]), 'r--')\n",
    "\n",
    "            if kind == 'char':\n",
    "                ax.annotate(j, (self.nodes[j][0],self.nodes[j][1]))\n",
    "            elif kind == 'coor':\n",
    "                ax.annotate((self.nodes[j][0],self.nodes[j][1]), \n",
    "                            (self.nodes[j][0],self.nodes[j][1]))\n",
    "            elif kind == 'both':\n",
    "                ax.annotate(str(j)+ ': ' + str((self.nodes[j][0],self.nodes[j][1])),\n",
    "                           (self.nodes[j][0],self.nodes[j][1]), \n",
    "                            (self.nodes[j][0],self.nodes[j][1]))\n",
    "            \n",
    "            dist = int(self.distances[j][k])\n",
    "            x = (self.nodes[j][0]+self.nodes[k][0])/2\n",
    "            y = (self.nodes[j][1]+self.nodes[k][1])/2\n",
    "            ax.annotate(dist, (x,y),color='green')    \n",
    "            \n"
   ]
  },
  {
   "cell_type": "code",
   "execution_count": 3,
   "metadata": {
    "collapsed": true
   },
   "outputs": [],
   "source": [
    "S = Space()"
   ]
  },
  {
   "cell_type": "code",
   "execution_count": 4,
   "metadata": {},
   "outputs": [],
   "source": [
    "S.generateNodes(6)"
   ]
  },
  {
   "cell_type": "code",
   "execution_count": 5,
   "metadata": {},
   "outputs": [
    {
     "data": {
      "text/plain": [
       "{'A': [60, 6],\n",
       " 'B': [86, 40],\n",
       " 'C': [25, 9],\n",
       " 'D': [25, 80],\n",
       " 'E': [87, 88],\n",
       " 'F': [52, 41]}"
      ]
     },
     "execution_count": 5,
     "metadata": {},
     "output_type": "execute_result"
    }
   ],
   "source": [
    "S.nodes"
   ]
  },
  {
   "cell_type": "code",
   "execution_count": 6,
   "metadata": {},
   "outputs": [
    {
     "data": {
      "text/html": [
       "<div>\n",
       "<style>\n",
       "    .dataframe thead tr:only-child th {\n",
       "        text-align: right;\n",
       "    }\n",
       "\n",
       "    .dataframe thead th {\n",
       "        text-align: left;\n",
       "    }\n",
       "\n",
       "    .dataframe tbody tr th {\n",
       "        vertical-align: top;\n",
       "    }\n",
       "</style>\n",
       "<table border=\"1\" class=\"dataframe\">\n",
       "  <thead>\n",
       "    <tr style=\"text-align: right;\">\n",
       "      <th></th>\n",
       "      <th>x</th>\n",
       "      <th>y</th>\n",
       "    </tr>\n",
       "  </thead>\n",
       "  <tbody>\n",
       "    <tr>\n",
       "      <th>C</th>\n",
       "      <td>25</td>\n",
       "      <td>9</td>\n",
       "    </tr>\n",
       "    <tr>\n",
       "      <th>B</th>\n",
       "      <td>86</td>\n",
       "      <td>40</td>\n",
       "    </tr>\n",
       "    <tr>\n",
       "      <th>E</th>\n",
       "      <td>87</td>\n",
       "      <td>88</td>\n",
       "    </tr>\n",
       "    <tr>\n",
       "      <th>D</th>\n",
       "      <td>25</td>\n",
       "      <td>80</td>\n",
       "    </tr>\n",
       "    <tr>\n",
       "      <th>A</th>\n",
       "      <td>60</td>\n",
       "      <td>6</td>\n",
       "    </tr>\n",
       "    <tr>\n",
       "      <th>F</th>\n",
       "      <td>52</td>\n",
       "      <td>41</td>\n",
       "    </tr>\n",
       "  </tbody>\n",
       "</table>\n",
       "</div>"
      ],
      "text/plain": [
       "    x   y\n",
       "C  25   9\n",
       "B  86  40\n",
       "E  87  88\n",
       "D  25  80\n",
       "A  60   6\n",
       "F  52  41"
      ]
     },
     "execution_count": 6,
     "metadata": {},
     "output_type": "execute_result"
    }
   ],
   "source": [
    "S.nodesToDF()"
   ]
  },
  {
   "cell_type": "code",
   "execution_count": 7,
   "metadata": {
    "scrolled": true
   },
   "outputs": [
    {
     "data": {
      "text/html": [
       "<div>\n",
       "<style>\n",
       "    .dataframe thead tr:only-child th {\n",
       "        text-align: right;\n",
       "    }\n",
       "\n",
       "    .dataframe thead th {\n",
       "        text-align: left;\n",
       "    }\n",
       "\n",
       "    .dataframe tbody tr th {\n",
       "        vertical-align: top;\n",
       "    }\n",
       "</style>\n",
       "<table border=\"1\" class=\"dataframe\">\n",
       "  <thead>\n",
       "    <tr style=\"text-align: right;\">\n",
       "      <th></th>\n",
       "      <th>C</th>\n",
       "      <th>B</th>\n",
       "      <th>E</th>\n",
       "      <th>D</th>\n",
       "      <th>A</th>\n",
       "      <th>F</th>\n",
       "    </tr>\n",
       "  </thead>\n",
       "  <tbody>\n",
       "    <tr>\n",
       "      <th>C</th>\n",
       "      <td>100.000000</td>\n",
       "      <td>68.425142</td>\n",
       "      <td>100.424101</td>\n",
       "      <td>71.000000</td>\n",
       "      <td>35.128336</td>\n",
       "      <td>41.868843</td>\n",
       "    </tr>\n",
       "    <tr>\n",
       "      <th>B</th>\n",
       "      <td>68.425142</td>\n",
       "      <td>100.000000</td>\n",
       "      <td>48.010416</td>\n",
       "      <td>72.945185</td>\n",
       "      <td>42.801869</td>\n",
       "      <td>34.014703</td>\n",
       "    </tr>\n",
       "    <tr>\n",
       "      <th>E</th>\n",
       "      <td>100.424101</td>\n",
       "      <td>48.010416</td>\n",
       "      <td>100.000000</td>\n",
       "      <td>62.513998</td>\n",
       "      <td>86.330759</td>\n",
       "      <td>58.600341</td>\n",
       "    </tr>\n",
       "    <tr>\n",
       "      <th>D</th>\n",
       "      <td>71.000000</td>\n",
       "      <td>72.945185</td>\n",
       "      <td>62.513998</td>\n",
       "      <td>100.000000</td>\n",
       "      <td>81.859636</td>\n",
       "      <td>47.434165</td>\n",
       "    </tr>\n",
       "    <tr>\n",
       "      <th>A</th>\n",
       "      <td>35.128336</td>\n",
       "      <td>42.801869</td>\n",
       "      <td>86.330759</td>\n",
       "      <td>81.859636</td>\n",
       "      <td>100.000000</td>\n",
       "      <td>35.902646</td>\n",
       "    </tr>\n",
       "    <tr>\n",
       "      <th>F</th>\n",
       "      <td>41.868843</td>\n",
       "      <td>34.014703</td>\n",
       "      <td>58.600341</td>\n",
       "      <td>47.434165</td>\n",
       "      <td>35.902646</td>\n",
       "      <td>100.000000</td>\n",
       "    </tr>\n",
       "  </tbody>\n",
       "</table>\n",
       "</div>"
      ],
      "text/plain": [
       "            C           B           E           D           A           F\n",
       "C  100.000000   68.425142  100.424101   71.000000   35.128336   41.868843\n",
       "B   68.425142  100.000000   48.010416   72.945185   42.801869   34.014703\n",
       "E  100.424101   48.010416  100.000000   62.513998   86.330759   58.600341\n",
       "D   71.000000   72.945185   62.513998  100.000000   81.859636   47.434165\n",
       "A   35.128336   42.801869   86.330759   81.859636  100.000000   35.902646\n",
       "F   41.868843   34.014703   58.600341   47.434165   35.902646  100.000000"
      ]
     },
     "execution_count": 7,
     "metadata": {},
     "output_type": "execute_result"
    }
   ],
   "source": [
    "S.getDistances()"
   ]
  },
  {
   "cell_type": "markdown",
   "metadata": {},
   "source": [
    "### Algorithms"
   ]
  },
  {
   "cell_type": "markdown",
   "metadata": {},
   "source": [
    "Parent class of the algorithms with different advantages and disadvantages."
   ]
  },
  {
   "cell_type": "code",
   "execution_count": 8,
   "metadata": {},
   "outputs": [],
   "source": [
    "class Algorithm(object):\n",
    "    '''\n",
    "    Parent class of all solutions\n",
    "    '''\n",
    "    def __init__(self):\n",
    "        self.time = None\n",
    "        \n",
    "    def checkSpace(self,obj):\n",
    "        assert isinstance(obj,Space),'Input must be Space object'\n",
    "    \n",
    "    def solveWithTimer(self,Space,verbose=False):\n",
    "        '''\n",
    "        Input space and saves time in time variable.\n",
    "        '''\n",
    "        start = time.time()\n",
    "        solution = self.solve(Space,verbose)\n",
    "        end = time.time()\n",
    "        self.time = end - start\n",
    "        "
   ]
  },
  {
   "cell_type": "markdown",
   "metadata": {},
   "source": [
    "### Naive"
   ]
  },
  {
   "cell_type": "markdown",
   "metadata": {},
   "source": [
    "First algorithm is the brute force solution which has two parts. First part is a recursive function that gets all permutations of the sequence of nodes. The second part is calculating the total distance for each sequence while finding the sequence with lowest total distance.\n",
    "\n",
    "***O(n!) *** "
   ]
  },
  {
   "cell_type": "code",
   "execution_count": 9,
   "metadata": {},
   "outputs": [],
   "source": [
    "class Naive(Algorithm):\n",
    "    def __str__(self):\n",
    "        return \"Naive\"\n",
    "    \n",
    "    def permutation(self, order): \n",
    "        '''\n",
    "        Recursive function that returns a list of all permutations of input.\n",
    "        '''\n",
    "        if len(order) == 0: \n",
    "            return [] \n",
    "\n",
    "        if len(order) == 1: \n",
    "            return [order] \n",
    "\n",
    "        current = [] \n",
    "\n",
    "        for i in range(len(order)): \n",
    "            m = order[i] \n",
    "\n",
    "            remaining = order[:i] + order[i+1:] \n",
    "\n",
    "            for p in self.permutation(remaining): \n",
    "                current.append([m] + p) \n",
    "                \n",
    "        return current \n",
    "\n",
    "    \n",
    "    def getPermutations(self, Space):\n",
    "        '''\n",
    "        We will be only using sequences that have the same first element \n",
    "        so that all the solutions will have the same starting and end node.\n",
    "        By doing this we are reducing the total number of permutations \n",
    "        by the number of nodes (N! permutations to N!/N permutations). \n",
    "        To do this, we will only calculates the permutations from the 2nd\n",
    "        node and retain the same first node.\n",
    "        \n",
    "        '''\n",
    "        \n",
    "        node_names = list(Space.nodes.keys())\n",
    "        first = node_names.pop(0)\n",
    "        \n",
    "        Space.permutations = self.permutation(node_names)\n",
    "        \n",
    "        for i in range(len(Space.permutations)):\n",
    "            Space.permutations[i].insert(0,first)\n",
    "            \n",
    "        return Space.permutations\n",
    "\n",
    "    \n",
    "    def getBest(self, Space, verbose):\n",
    "        '''\n",
    "        Loops through all permutations and finds the permutation that \n",
    "        has the least distance.\n",
    "        \n",
    "        verbose: Boolean, show log or not\n",
    "        '''\n",
    "        lowest = 10000000 \n",
    "        lowest_perm = []\n",
    "        total = 0\n",
    "        \n",
    "        if verbose == True:\n",
    "            print('Total Permutations: ', len(Space.permutations))\n",
    "            print()\n",
    "        \n",
    "        for perm in Space.permutations:\n",
    "            perm_dist = Space.getTotalDistance(tuple(perm),'Naive')\n",
    "\n",
    "            if lowest > perm_dist:\n",
    "                if verbose == True:\n",
    "                    \n",
    "                    print('lowest: ',lowest)\n",
    "                    print('lowest_perm: ',lowest_perm)\n",
    "                    print()\n",
    "                lowest = perm_dist\n",
    "                lowest_perm = perm\n",
    "                \n",
    "            total += perm_dist\n",
    "        \n",
    "        Space.getTotalDistance(tuple(lowest_perm),'Naive')\n",
    "        if verbose == True:\n",
    "            print('total distance of all solutions: ',total)\n",
    "        \n",
    "        Space.solution_total_dist['Average'] = total/len(Space.permutations)\n",
    "        if verbose == True:\n",
    "            print('average distance of any solution: ',\n",
    "                  Space.solution_total_dist['Average'])\n",
    "        \n",
    "        \n",
    "        if verbose == True:\n",
    "            print(Space.solution_total_dist['Naive'])\n",
    "            \n",
    "        return lowest_perm\n",
    "    \n",
    "    \n",
    "    def solve(self, Space, verbose=True):\n",
    "        '''\n",
    "        Brute force solution\n",
    "        \n",
    "        verbose: Boolean, show log or not\n",
    "        '''\n",
    "        self.checkSpace(Space)\n",
    "        \n",
    "        self.permutations = self.getPermutations(Space)\n",
    "        naive_solution = self.getBest(Space,verbose)\n",
    "        \n",
    "        Space.solutions['Naive'] = naive_solution\n",
    "        Space.getTotalDistance(Space.solutions['Naive'],'Naive')\n",
    "        \n",
    "        "
   ]
  },
  {
   "cell_type": "markdown",
   "metadata": {
    "collapsed": true
   },
   "source": [
    "Hashset of distances for memoization"
   ]
  },
  {
   "cell_type": "code",
   "execution_count": 10,
   "metadata": {
    "scrolled": true
   },
   "outputs": [
    {
     "data": {
      "text/plain": [
       "36"
      ]
     },
     "execution_count": 10,
     "metadata": {},
     "output_type": "execute_result"
    }
   ],
   "source": [
    "len(S.totalDistances)"
   ]
  },
  {
   "cell_type": "code",
   "execution_count": 11,
   "metadata": {
    "scrolled": false
   },
   "outputs": [
    {
     "name": "stdout",
     "output_type": "stream",
     "text": [
      "Total Permutations:  120\n",
      "\n",
      "lowest:  10000000\n",
      "lowest_perm:  []\n",
      "\n",
      "lowest:  338.58068048318677\n",
      "lowest_perm:  ['C', 'B', 'E', 'D', 'A', 'F']\n",
      "\n",
      "lowest:  297.41470273226514\n",
      "lowest_perm:  ['C', 'B', 'E', 'D', 'F', 'A']\n",
      "\n",
      "lowest:  286.57009895490535\n",
      "lowest_perm:  ['C', 'D', 'E', 'B', 'F', 'A']\n",
      "\n",
      "total distance of all solutions:  42588.486697360684\n",
      "average distance of any solution:  354.90405581133905\n",
      "277.75762696099065\n"
     ]
    }
   ],
   "source": [
    "N = Naive()\n",
    "N.solve(S)"
   ]
  },
  {
   "cell_type": "markdown",
   "metadata": {
    "collapsed": true
   },
   "source": [
    "Hashmap has increased its length"
   ]
  },
  {
   "cell_type": "code",
   "execution_count": 12,
   "metadata": {
    "scrolled": true
   },
   "outputs": [
    {
     "data": {
      "text/plain": [
       "356"
      ]
     },
     "execution_count": 12,
     "metadata": {},
     "output_type": "execute_result"
    }
   ],
   "source": [
    "len(S.totalDistances)"
   ]
  },
  {
   "cell_type": "code",
   "execution_count": 13,
   "metadata": {},
   "outputs": [
    {
     "data": {
      "image/png": "[encoded data removed]",
      "text/plain": [
       "<matplotlib.figure.Figure at 0x15b86a6fc50>"
      ]
     },
     "metadata": {},
     "output_type": "display_data"
    }
   ],
   "source": [
    "S.plot('Naive','both')"
   ]
  },
  {
   "cell_type": "markdown",
   "metadata": {},
   "source": [
    "### Greedy"
   ]
  },
  {
   "cell_type": "markdown",
   "metadata": {},
   "source": [
    "Finds whats the best decision momentarily but may not necesarily be the best results in the overall structure of the problem. This strategy does not get the most optimal solution however it is extremely fast.\n",
    "\n",
    "***O(n^2) to O(n)***  Getting min is O(n) * total number of nodes (n),  but n is decreasing"
   ]
  },
  {
   "cell_type": "code",
   "execution_count": 14,
   "metadata": {},
   "outputs": [],
   "source": [
    "class Greedy(Algorithm):\n",
    "    def __str__(self):\n",
    "        return \"Greedy\"\n",
    "    \n",
    "    def getMinRowCol(self, df):\n",
    "        '''\n",
    "        Get minimum distance value between any two nodes in the Dataframe\n",
    "        \n",
    "        df: pandas dataframe of distances from col name to row index or vice versa.\n",
    "        '''\n",
    "        row, col = df.stack().idxmin()\n",
    "        return row,col\n",
    "\n",
    "    def solve(self, Space, verbose=True):\n",
    "        '''\n",
    "        Gets minimum distance value between any two nodes and then finds the \n",
    "        least distance to the next node for every succeeding nodes.\n",
    "        \n",
    "        verbose: Boolean, show log or not\n",
    "        \n",
    "        '''\n",
    "        \n",
    "        self.checkSpace(Space)\n",
    "        \n",
    "        visited_list = list()\n",
    "\n",
    "        row,col = self.getMinRowCol(Space.distances)\n",
    "        latest = col\n",
    "        visited_list.append(row)\n",
    "        visited_list.append(latest)\n",
    "        \n",
    "        if verbose == True:\n",
    "            print('minimum distance from any two nodes:')\n",
    "            print(str(row) + ' to ' + str(col) + ': ' + \\\n",
    "                  str(Space.distances[row][col]))\n",
    "            print('')\n",
    "            print('minimum distance following prev node:')\n",
    "                \n",
    "        for i in range(len(Space.distances.columns)-2):\n",
    "            latest = Space.distances.drop(visited_list).idxmin()[latest]\n",
    "            visited_list.append(latest)\n",
    "            if verbose == True:\n",
    "                print(str(visited_list[-2]) \n",
    "                      + ' to ' \n",
    "                      + str(visited_list[-1]) \n",
    "                      + ': ' \n",
    "                      + str(Space.distances[visited_list[-2]][visited_list[-1]]))\n",
    "                \n",
    "        Space.solutions['Greedy'] = visited_list    \n",
    "        Space.getTotalDistance(Space.solutions['Greedy'],'Greedy')\n",
    "        \n"
   ]
  },
  {
   "cell_type": "code",
   "execution_count": 15,
   "metadata": {},
   "outputs": [],
   "source": [
    "G = Greedy()"
   ]
  },
  {
   "cell_type": "code",
   "execution_count": 16,
   "metadata": {},
   "outputs": [
    {
     "name": "stdout",
     "output_type": "stream",
     "text": [
      "minimum distance from any two nodes:\n",
      "B to F: 34.0147027033899\n",
      "\n",
      "minimum distance following prev node:\n",
      "F to A: 35.90264614203248\n",
      "A to C: 35.12833614050059\n",
      "C to D: 71.0\n",
      "D to E: 62.51399843235114\n"
     ]
    }
   ],
   "source": [
    "G.solve(S)"
   ]
  },
  {
   "cell_type": "code",
   "execution_count": 17,
   "metadata": {},
   "outputs": [
    {
     "data": {
      "image/png": "[encoded data removed]",
      "text/plain": [
       "<matplotlib.figure.Figure at 0x15b88d7fac8>"
      ]
     },
     "metadata": {},
     "output_type": "display_data"
    }
   ],
   "source": [
    "S.plot('Greedy','char')"
   ]
  },
  {
   "cell_type": "markdown",
   "metadata": {},
   "source": [
    "### Optimization: Integer Programming"
   ]
  },
  {
   "cell_type": "markdown",
   "metadata": {},
   "source": [
    "Integer programming is when you minimize/maximize an objective function by adjusting its the weights which can only be integers. Constraints are the different rules that has to be followed in the optimization process. In this application, we put weights (0 or 1) on each edge and that will be our objective function. As for the constraints we have two: \n",
    "\n",
    "* Only one path can exit each node\n",
    "* Only one path can enter each node\n",
    "\n",
    "Given that we optimize using the above constraints, we will encounter the issue of subtours. This is when the solution is only locally connected (ie (A->B),(B->A),(C->D),(D->C)). To rectify this, we will more add contstraints that are specific to each subtour (ie (A->B) + (B->A) <= 1) and optimize again. As we add constraints that eliminates subtours, it is likely that more subtour will emerge. We will keep repeating this process until all subtours are eliminated then we will have an optimal solution.\n",
    "\n"
   ]
  },
  {
   "cell_type": "code",
   "execution_count": 18,
   "metadata": {},
   "outputs": [],
   "source": [
    "class Optimization(Algorithm):\n",
    "    def __str__(self):\n",
    "        return \"Optimization\"\n",
    "    \n",
    "    \n",
    "    def solutionToTuple(self, model):\n",
    "        '''\n",
    "        model: pulp object\n",
    "        '''\n",
    "        output = []\n",
    "        for v in model.variables():\n",
    "            if v.varValue>0:\n",
    "                name = v.name[5:]\n",
    "                r = name[name.rfind('_to_')+4:]\n",
    "                l = name[:name.rfind('_to_')]\n",
    "                output.append((l,r))\n",
    "                \n",
    "        return output\n",
    "\n",
    "\n",
    "    def identifySubtourFromTuples(self, Space, list_of_tuples):\n",
    "        '''\n",
    "        Outputs a list of subtours from list a list of touples\n",
    "        \n",
    "        list_of_tuples: list of tuples where 0th index of each tuple is the \n",
    "        starting node and the 1st index is the end node. Each tuple represents \n",
    "        an edge.  \n",
    "        \n",
    "        '''\n",
    "        subtours = []\n",
    "        subtour = []\n",
    "\n",
    "        i = 0\n",
    "\n",
    "        while len(list_of_tuples)>0:\n",
    "            next_node = list_of_tuples[i][1]\n",
    "            subtour.append(list_of_tuples[i])\n",
    "            list_of_tuples.pop(i)\n",
    "            j = 0\n",
    "            subtour_end = False\n",
    "            while subtour_end == False:\n",
    "                j = 0\n",
    "                while (j < len(list_of_tuples)):\n",
    "                    if next_node == list_of_tuples[j][0]:\n",
    "                        subtour.append(list_of_tuples[j])\n",
    "                        next_node = list_of_tuples[j][1]\n",
    "                        list_of_tuples.pop(j)\n",
    "                        j = 0\n",
    "                        break\n",
    "                    j += 1\n",
    "\n",
    "                if j == len(list_of_tuples):\n",
    "                    subtour_end = True\n",
    "\n",
    "            subtours.append(subtour)\n",
    "            subtour = []\n",
    "            \n",
    "        return subtours\n",
    "\n",
    "    \n",
    "    def getColInd(self,node_tuple,Space):\n",
    "        '''\n",
    "        Input a tuple of node names and returns the row and column index\n",
    "        \n",
    "        node_tuple: tuple of two nodes that signify an edge\n",
    "        '''\n",
    "        col = list(Space.distances.columns).index(node_tuple[0])\n",
    "        row = list(Space.distances.index).index(node_tuple[1])\n",
    "        \n",
    "        return col,row\n",
    "    \n",
    "    \n",
    "    def addNewConstraints(self,Space,subtours):\n",
    "        '''\n",
    "        Adds new contraints to eliminate subtours\n",
    "        \n",
    "        subtours: list of subtours\n",
    "        '''\n",
    "        new_constraints = []\n",
    "        for subtour in subtours:\n",
    "            new_constraint = np.zeros(Space.distances.shape)\n",
    "            for node in subtour:\n",
    "                row,col = self.getColInd(node,Space)\n",
    "                new_constraint[row][col] = 1\n",
    "            new_constraints.append(new_constraint.flatten())\n",
    "            \n",
    "        return new_constraints\n",
    "    \n",
    "    \n",
    "    def tupleToSolution(self,subtours):#subtourToSolution\n",
    "        '''\n",
    "        Converts list tuples into solution format\n",
    "        '''\n",
    "        solution = []\n",
    "        for subtour in subtours[0]:\n",
    "            solution.append(subtour[0])\n",
    "\n",
    "        return solution\n",
    "    \n",
    "    \n",
    "    def solve(self,Space,verbose=True):\n",
    "        '''\n",
    "        Solve using integer programming. Iteratively adds more constraints \n",
    "        until an acceptable solution is found.\n",
    "        '''\n",
    "        \n",
    "        self.checkSpace(Space)\n",
    "        \n",
    "        constraint = np.zeros([len(Space), len(Space)**2])\n",
    "\n",
    "        constraint1 = constraint.copy()#only one edge enter one node\n",
    "        constraint2 = constraint.copy()#only one path that exit one node\n",
    "    \n",
    "        for i in range(len(Space)):\n",
    "            constraint1[i][i*len(Space):(i+1)*len(Space)] += 1\n",
    "        for i in range(len(Space)):\n",
    "            constraint2[:,(i)*len(Space):(i+1)*len(Space)] += \\\n",
    "            np.identity(len(Space))\n",
    "        \n",
    "\n",
    "        constraints = np.concatenate([constraint1,constraint2],axis=0)\n",
    "\n",
    "        model = pulp.LpProblem(\"TSP\", pulp.LpMinimize)\n",
    "\n",
    "        path_names = []\n",
    "\n",
    "        for i in Space.distances.columns:\n",
    "            for j in Space.distances.index:\n",
    "                path_names.append(i + ' to ' + j)\n",
    "\n",
    "        costs = []\n",
    "\n",
    "        for row in Space.distances:\n",
    "            costs.extend(Space.distances[row].values)\n",
    "\n",
    "        costs_dict = dict(zip(path_names,costs))\n",
    "\n",
    "        path_vars = pulp.LpVariable.dicts(\"path\", path_names,\n",
    "                                          lowBound=0, cat='Integer')\n",
    "\n",
    "        model += pulp.lpSum([costs_dict[i]*path_vars[i] for i in path_names])\n",
    "\n",
    "        for i in range(constraints.shape[0]):\n",
    "            model += pulp.lpSum([constraints[i][j] * path_vars[path_names[j]] for j in range(len(path_names))]) >= 1, \"constraints_\"+str(i)\n",
    "        \n",
    "        if verbose == True:\n",
    "            print(model)\n",
    "\n",
    "        tsp_iteration = 0\n",
    "        num_subtour = 1000\n",
    "\n",
    "        while (num_subtour>1):\n",
    "            model.solve()\n",
    "            if verbose == True:\n",
    "                print()\n",
    "                print()\n",
    "                print(\"Status:\", pulp.LpStatus[model.status])\n",
    "                print('TSP iteration: ', tsp_iteration)\n",
    "                print('total distance: ', str(pulp.value(model.objective)))\n",
    "\n",
    "            solution = []\n",
    "            for v in model.variables():\n",
    "                solution.append(v.name)\n",
    "\n",
    "            list_of_tuples = self.solutionToTuple(model)\n",
    "\n",
    "            subtours = self.identifySubtourFromTuples(Space,list_of_tuples)\n",
    "            num_subtour = len(subtours)\n",
    "            if verbose == True:\n",
    "                print('subtours: ')\n",
    "                for subtour in subtours:\n",
    "                    print(subtour)\n",
    "                print()\n",
    "\n",
    "            new_constraints = self.addNewConstraints(Space,subtours)\n",
    "\n",
    "            tsp_iteration += 1\n",
    "            new_constraint_names = []\n",
    "            for i in range(len(new_constraints)):\n",
    "                new_constraint_name = \"subtour_constraints_\" + str(tsp_iteration) + '_'+str(i) \n",
    "                new_constraint_names.append(new_constraint_name)\n",
    "    \n",
    "                model += pulp.lpSum([new_constraints[i][j] * path_vars[path_names[j]] for j in range(len(path_names))]) <= sum(new_constraints[i])-1, new_constraint_name\n",
    "            \n",
    "            if verbose == True:\n",
    "                print('new constraints: ',len(model.constraints))\n",
    "                for constraint_name in new_constraint_names:\n",
    "                    print(model.constraints[constraint_name])\n",
    "                \n",
    "                print('===============================================================================')\n",
    "                print()\n",
    "\n",
    "        if verbose == True:\n",
    "            print('total distance: '+str(pulp.value(model.objective)))\n",
    "            for subtour in subtours:\n",
    "                    print(subtour)\n",
    "                    \n",
    "        Space.solutions['Optimization'] = self.tupleToSolution(subtours)\n",
    "        Space.getTotalDistance(Space.solutions['Optimization'], 'Optimization')\n",
    "\n",
    "\n",
    "    "
   ]
  },
  {
   "cell_type": "code",
   "execution_count": 19,
   "metadata": {},
   "outputs": [],
   "source": [
    "O = Optimization()"
   ]
  },
  {
   "cell_type": "code",
   "execution_count": 20,
   "metadata": {
    "scrolled": false
   },
   "outputs": [
    {
     "name": "stdout",
     "output_type": "stream",
     "text": [
      "TSP:\n",
      "MINIMIZE\n",
      "100.0*path_A_to_A + 42.80186911806539*path_A_to_B + 35.12833614050059*path_A_to_C + 81.85963596303125*path_A_to_D + 86.33075929238663*path_A_to_E + 35.90264614203248*path_A_to_F + 42.80186911806539*path_B_to_A + 100.0*path_B_to_B + 68.42514157822401*path_B_to_C + 72.94518489934754*path_B_to_D + 48.010415536631214*path_B_to_E + 34.0147027033899*path_B_to_F + 35.12833614050059*path_C_to_A + 68.42514157822401*path_C_to_B + 100.0*path_C_to_C + 71.0*path_C_to_D + 100.42410069301094*path_C_to_E + 41.86884283091664*path_C_to_F + 81.85963596303125*path_D_to_A + 72.94518489934754*path_D_to_B + 71.0*path_D_to_C + 100.0*path_D_to_D + 62.51399843235114*path_D_to_E + 47.43416490252569*path_D_to_F + 86.33075929238663*path_E_to_A + 48.010415536631214*path_E_to_B + 100.42410069301094*path_E_to_C + 62.51399843235114*path_E_to_D + 100.0*path_E_to_E + 58.60034129593445*path_E_to_F + 35.90264614203248*path_F_to_A + 34.0147027033899*path_F_to_B + 41.86884283091664*path_F_to_C + 47.43416490252569*path_F_to_D + 58.60034129593445*path_F_to_E + 100.0*path_F_to_F + 0.0\n",
      "SUBJECT TO\n",
      "constraints_0: path_C_to_A + path_C_to_B + path_C_to_C + path_C_to_D\n",
      " + path_C_to_E + path_C_to_F >= 1\n",
      "\n",
      "constraints_1: path_B_to_A + path_B_to_B + path_B_to_C + path_B_to_D\n",
      " + path_B_to_E + path_B_to_F >= 1\n",
      "\n",
      "constraints_2: path_E_to_A + path_E_to_B + path_E_to_C + path_E_to_D\n",
      " + path_E_to_E + path_E_to_F >= 1\n",
      "\n",
      "constraints_3: path_D_to_A + path_D_to_B + path_D_to_C + path_D_to_D\n",
      " + path_D_to_E + path_D_to_F >= 1\n",
      "\n",
      "constraints_4: path_A_to_A + path_A_to_B + path_A_to_C + path_A_to_D\n",
      " + path_A_to_E + path_A_to_F >= 1\n",
      "\n",
      "constraints_5: path_F_to_A + path_F_to_B + path_F_to_C + path_F_to_D\n",
      " + path_F_to_E + path_F_to_F >= 1\n",
      "\n",
      "constraints_6: path_A_to_C + path_B_to_C + path_C_to_C + path_D_to_C\n",
      " + path_E_to_C + path_F_to_C >= 1\n",
      "\n",
      "constraints_7: path_A_to_B + path_B_to_B + path_C_to_B + path_D_to_B\n",
      " + path_E_to_B + path_F_to_B >= 1\n",
      "\n",
      "constraints_8: path_A_to_E + path_B_to_E + path_C_to_E + path_D_to_E\n",
      " + path_E_to_E + path_F_to_E >= 1\n",
      "\n",
      "constraints_9: path_A_to_D + path_B_to_D + path_C_to_D + path_D_to_D\n",
      " + path_E_to_D + path_F_to_D >= 1\n",
      "\n",
      "constraints_10: path_A_to_A + path_B_to_A + path_C_to_A + path_D_to_A\n",
      " + path_E_to_A + path_F_to_A >= 1\n",
      "\n",
      "constraints_11: path_A_to_F + path_B_to_F + path_C_to_F + path_D_to_F\n",
      " + path_E_to_F + path_F_to_F >= 1\n",
      "\n",
      "VARIABLES\n",
      "0 <= path_A_to_A Integer\n",
      "0 <= path_A_to_B Integer\n",
      "0 <= path_A_to_C Integer\n",
      "0 <= path_A_to_D Integer\n",
      "0 <= path_A_to_E Integer\n",
      "0 <= path_A_to_F Integer\n",
      "0 <= path_B_to_A Integer\n",
      "0 <= path_B_to_B Integer\n",
      "0 <= path_B_to_C Integer\n",
      "0 <= path_B_to_D Integer\n",
      "0 <= path_B_to_E Integer\n",
      "0 <= path_B_to_F Integer\n",
      "0 <= path_C_to_A Integer\n",
      "0 <= path_C_to_B Integer\n",
      "0 <= path_C_to_C Integer\n",
      "0 <= path_C_to_D Integer\n",
      "0 <= path_C_to_E Integer\n",
      "0 <= path_C_to_F Integer\n",
      "0 <= path_D_to_A Integer\n",
      "0 <= path_D_to_B Integer\n",
      "0 <= path_D_to_C Integer\n",
      "0 <= path_D_to_D Integer\n",
      "0 <= path_D_to_E Integer\n",
      "0 <= path_D_to_F Integer\n",
      "0 <= path_E_to_A Integer\n",
      "0 <= path_E_to_B Integer\n",
      "0 <= path_E_to_C Integer\n",
      "0 <= path_E_to_D Integer\n",
      "0 <= path_E_to_E Integer\n",
      "0 <= path_E_to_F Integer\n",
      "0 <= path_F_to_A Integer\n",
      "0 <= path_F_to_B Integer\n",
      "0 <= path_F_to_C Integer\n",
      "0 <= path_F_to_D Integer\n",
      "0 <= path_F_to_E Integer\n",
      "0 <= path_F_to_F Integer\n",
      "\n",
      "\n",
      "\n",
      "Status: Optimal\n",
      "TSP iteration:  0\n",
      "total distance:  261.145833159315\n",
      "subtours: \n",
      "[('A', 'C'), ('C', 'A')]\n",
      "[('B', 'E'), ('E', 'B')]\n",
      "[('D', 'F'), ('F', 'D')]\n",
      "\n",
      "new constraints:  15\n",
      "path_A_to_C + path_C_to_A <= 1.0\n",
      "path_B_to_E + path_E_to_B <= 1.0\n",
      "path_D_to_F + path_F_to_D <= 1.0\n",
      "===============================================================================\n",
      "\n",
      "\n",
      "\n",
      "Status: Optimal\n",
      "TSP iteration:  1\n",
      "total distance:  277.75762696099065\n",
      "subtours: \n",
      "[('A', 'B'), ('B', 'E'), ('E', 'D'), ('D', 'F'), ('F', 'C'), ('C', 'A')]\n",
      "\n",
      "new constraints:  16\n",
      "path_A_to_B + path_B_to_E + path_C_to_A + path_D_to_F + path_E_to_D + path_F_to_C <= 5.0\n",
      "===============================================================================\n",
      "\n",
      "total distance: 277.75762696099065\n",
      "[('A', 'B'), ('B', 'E'), ('E', 'D'), ('D', 'F'), ('F', 'C'), ('C', 'A')]\n"
     ]
    }
   ],
   "source": [
    "O.solve(S)"
   ]
  },
  {
   "cell_type": "code",
   "execution_count": 21,
   "metadata": {},
   "outputs": [
    {
     "data": {
      "image/png": "[encoded data removed]",
      "text/plain": [
       "<matplotlib.figure.Figure at 0x15b88d6be80>"
      ]
     },
     "metadata": {},
     "output_type": "display_data"
    }
   ],
   "source": [
    "S.plot('Optimization','both')"
   ]
  },
  {
   "cell_type": "code",
   "execution_count": 22,
   "metadata": {},
   "outputs": [],
   "source": [
    "def benchmark(low,high,step=1,include_naive=True):\n",
    "    '''\n",
    "    Plots computational time of different algorithms and their accuracies given a range.\n",
    "    \n",
    "    low: lower bound of range to compute\n",
    "    high: upper bound of range to compute\n",
    "    '''\n",
    "    \n",
    "    time_df = pd.DataFrame()\n",
    "    dist_df = pd.DataFrame()\n",
    "    \n",
    "\n",
    "    for i in range(low,high,step):\n",
    "        print('Calculating with Nodes:', i)\n",
    "        S = Space()\n",
    "        S.generateNodes(i)\n",
    "        S.nodesToDF()\n",
    "        S.getDistances()\n",
    "        \n",
    "        algorithms = []\n",
    "        for cls in Algorithm.__subclasses__():\n",
    "            if str(cls.__name__) == 'Naive':\n",
    "                if include_naive == True:\n",
    "                    algorithms.append(cls())\n",
    "                else:\n",
    "                    pass\n",
    "            else:\n",
    "                algorithms.append(cls())\n",
    "\n",
    "        for algorithm in algorithms:\n",
    "            algorithm.solveWithTimer(S)\n",
    "        \n",
    "        time_dict = {}\n",
    "        dist_dict = {}\n",
    "        for algorithm in algorithms:\n",
    "            time_dict[str(algorithm)] = [algorithm.time]\n",
    "            dist_dict[str(algorithm)] = [S.solution_total_dist[str(algorithm)]]\n",
    "            \n",
    "        if include_naive == True:\n",
    "            dist_dict['Average'] = [S.solution_total_dist['Average']]\n",
    "        \n",
    "        time_df = time_df.append(pd.DataFrame(data = time_dict,index = [i]))\n",
    "        dist_df = dist_df.append(pd.DataFrame(data = dist_dict,index = [i]))\n",
    "        \n",
    "        \n",
    "    axes = ()*len(algorithms)\n",
    "    fig,axes  = plt.subplots(1,len(algorithms))\n",
    "    fig.suptitle('Computational Time')\n",
    "    fig.legends\n",
    "    fig.set_figwidth(15)\n",
    "\n",
    "    counter = 0\n",
    "    for ax in axes:\n",
    "        ax.plot(time_df[str(algorithms[counter])])\n",
    "        ax.legend(loc=\"upper right\")\n",
    "        ax.set_xlabel('Num of Nodes')\n",
    "        ax.set_ylabel('Time (Sec)')\n",
    "        counter +=1\n",
    "\n",
    "    \n",
    "    if include_naive == True:\n",
    "        bench = \"Naive\"\n",
    "    else:\n",
    "        bench = \"Optimization\"\n",
    "        \n",
    "    bench_df = dist_df[bench]\n",
    "    dist_df = dist_df.subtract(dist_df[bench], axis=0)\n",
    "    dist_df = dist_df.div(bench_df, axis=0)\n",
    "    dist_df.drop(bench, axis=1, inplace=True)\n",
    "    dist_df.plot(kind='line', title='Percent Error vs ' + str(bench), ylim=(-.1,1.1), figsize=(12,4))\n",
    "        \n",
    "    del algorithms"
   ]
  },
  {
   "cell_type": "code",
   "execution_count": 23,
   "metadata": {
    "scrolled": false
   },
   "outputs": [
    {
     "name": "stdout",
     "output_type": "stream",
     "text": [
      "Calculating with Nodes: 4\n",
      "Calculating with Nodes: 5\n",
      "Calculating with Nodes: 6\n",
      "Calculating with Nodes: 7\n",
      "Calculating with Nodes: 8\n",
      "Calculating with Nodes: 9\n",
      "Calculating with Nodes: 10\n"
     ]
    },
    {
     "data": {
      "image/png": "[encoded data removed]",
      "text/plain": [
       "<matplotlib.figure.Figure at 0x15bf0e49fd0>"
      ]
     },
     "metadata": {},
     "output_type": "display_data"
    },
    {
     "data": {
      "image/png": "[encoded data removed]",
      "text/plain": [
       "<matplotlib.figure.Figure at 0x15b88aed400>"
      ]
     },
     "metadata": {},
     "output_type": "display_data"
    }
   ],
   "source": [
    "benchmark(4,11)"
   ]
  },
  {
   "cell_type": "code",
   "execution_count": 24,
   "metadata": {
    "scrolled": false
   },
   "outputs": [
    {
     "name": "stdout",
     "output_type": "stream",
     "text": [
      "Calculating with Nodes: 10\n",
      "Calculating with Nodes: 15\n",
      "Calculating with Nodes: 20\n",
      "Calculating with Nodes: 25\n",
      "Calculating with Nodes: 30\n",
      "Calculating with Nodes: 35\n"
     ]
    },
    {
     "data": {
      "image/png": "[encoded data removed]",
      "text/plain": [
       "<matplotlib.figure.Figure at 0x15b853f87b8>"
      ]
     },
     "metadata": {},
     "output_type": "display_data"
    },
    {
     "data": {
      "image/png": "[encoded data removed]",
      "text/plain": [
       "<matplotlib.figure.Figure at 0x15b88d75d68>"
      ]
     },
     "metadata": {},
     "output_type": "display_data"
    }
   ],
   "source": [
    "benchmark(10,40,5,False)"
   ]
  },
  {
   "cell_type": "code",
   "execution_count": null,
   "metadata": {
    "collapsed": true
   },
   "outputs": [],
   "source": []
  },
  {
   "cell_type": "code",
   "execution_count": null,
   "metadata": {
    "collapsed": true
   },
   "outputs": [],
   "source": []
  }
 ],
 "metadata": {
  "anaconda-cloud": {},
  "kernelspec": {
   "display_name": "Python 3",
   "language": "python",
   "name": "python3"
  },
  "language_info": {
   "codemirror_mode": {
    "name": "ipython",
    "version": 3
   },
   "file_extension": ".py",
   "mimetype": "text/x-python",
   "name": "python",
   "nbconvert_exporter": "python",
   "pygments_lexer": "ipython3",
   "version": "3.5.3"
  }
 },
 "nbformat": 4,
 "nbformat_minor": 1
}
