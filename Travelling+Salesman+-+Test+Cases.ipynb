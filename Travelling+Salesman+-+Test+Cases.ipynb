{
 "cells": [
  {
   "cell_type": "code",
   "execution_count": 1,
   "metadata": {},
   "outputs": [
    {
     "name": "stdout",
     "output_type": "stream",
     "text": [
      "Importing Jupyter notebook from Travelling_Salesman.ipynb\n"
     ]
    }
   ],
   "source": [
    "import unittest\n",
    "import nbimporter\n",
    "import pandas as pd\n",
    "import pulp\n",
    "import Travelling_Salesman as tsp"
   ]
  },
  {
   "cell_type": "code",
   "execution_count": 2,
   "metadata": {},
   "outputs": [],
   "source": [
    "S = tsp.Space()"
   ]
  },
  {
   "cell_type": "code",
   "execution_count": 3,
   "metadata": {
    "collapsed": true
   },
   "outputs": [],
   "source": [
    "S.nodes = {'A': [70, 31], \n",
    "           'B': [15, 34], \n",
    "           'C': [30, 89], \n",
    "           'D': [53, 64]}"
   ]
  },
  {
   "cell_type": "code",
   "execution_count": 4,
   "metadata": {},
   "outputs": [
    {
     "data": {
      "text/html": [
       "<div>\n",
       "<style>\n",
       "    .dataframe thead tr:only-child th {\n",
       "        text-align: right;\n",
       "    }\n",
       "\n",
       "    .dataframe thead th {\n",
       "        text-align: left;\n",
       "    }\n",
       "\n",
       "    .dataframe tbody tr th {\n",
       "        vertical-align: top;\n",
       "    }\n",
       "</style>\n",
       "<table border=\"1\" class=\"dataframe\">\n",
       "  <thead>\n",
       "    <tr style=\"text-align: right;\">\n",
       "      <th></th>\n",
       "      <th>x</th>\n",
       "      <th>y</th>\n",
       "    </tr>\n",
       "  </thead>\n",
       "  <tbody>\n",
       "    <tr>\n",
       "      <th>C</th>\n",
       "      <td>30</td>\n",
       "      <td>89</td>\n",
       "    </tr>\n",
       "    <tr>\n",
       "      <th>A</th>\n",
       "      <td>70</td>\n",
       "      <td>31</td>\n",
       "    </tr>\n",
       "    <tr>\n",
       "      <th>D</th>\n",
       "      <td>53</td>\n",
       "      <td>64</td>\n",
       "    </tr>\n",
       "    <tr>\n",
       "      <th>B</th>\n",
       "      <td>15</td>\n",
       "      <td>34</td>\n",
       "    </tr>\n",
       "  </tbody>\n",
       "</table>\n",
       "</div>"
      ],
      "text/plain": [
       "    x   y\n",
       "C  30  89\n",
       "A  70  31\n",
       "D  53  64\n",
       "B  15  34"
      ]
     },
     "execution_count": 4,
     "metadata": {},
     "output_type": "execute_result"
    }
   ],
   "source": [
    "S.nodesToDF()"
   ]
  },
  {
   "cell_type": "code",
   "execution_count": 5,
   "metadata": {},
   "outputs": [
    {
     "data": {
      "text/html": [
       "<div>\n",
       "<style>\n",
       "    .dataframe thead tr:only-child th {\n",
       "        text-align: right;\n",
       "    }\n",
       "\n",
       "    .dataframe thead th {\n",
       "        text-align: left;\n",
       "    }\n",
       "\n",
       "    .dataframe tbody tr th {\n",
       "        vertical-align: top;\n",
       "    }\n",
       "</style>\n",
       "<table border=\"1\" class=\"dataframe\">\n",
       "  <thead>\n",
       "    <tr style=\"text-align: right;\">\n",
       "      <th></th>\n",
       "      <th>C</th>\n",
       "      <th>A</th>\n",
       "      <th>D</th>\n",
       "      <th>B</th>\n",
       "    </tr>\n",
       "  </thead>\n",
       "  <tbody>\n",
       "    <tr>\n",
       "      <th>C</th>\n",
       "      <td>100.000000</td>\n",
       "      <td>70.455660</td>\n",
       "      <td>33.970576</td>\n",
       "      <td>57.008771</td>\n",
       "    </tr>\n",
       "    <tr>\n",
       "      <th>A</th>\n",
       "      <td>70.455660</td>\n",
       "      <td>100.000000</td>\n",
       "      <td>37.121422</td>\n",
       "      <td>55.081757</td>\n",
       "    </tr>\n",
       "    <tr>\n",
       "      <th>D</th>\n",
       "      <td>33.970576</td>\n",
       "      <td>37.121422</td>\n",
       "      <td>100.000000</td>\n",
       "      <td>48.414874</td>\n",
       "    </tr>\n",
       "    <tr>\n",
       "      <th>B</th>\n",
       "      <td>57.008771</td>\n",
       "      <td>55.081757</td>\n",
       "      <td>48.414874</td>\n",
       "      <td>100.000000</td>\n",
       "    </tr>\n",
       "  </tbody>\n",
       "</table>\n",
       "</div>"
      ],
      "text/plain": [
       "            C           A           D           B\n",
       "C  100.000000   70.455660   33.970576   57.008771\n",
       "A   70.455660  100.000000   37.121422   55.081757\n",
       "D   33.970576   37.121422  100.000000   48.414874\n",
       "B   57.008771   55.081757   48.414874  100.000000"
      ]
     },
     "execution_count": 5,
     "metadata": {},
     "output_type": "execute_result"
    }
   ],
   "source": [
    "S.getDistances()"
   ]
  },
  {
   "cell_type": "markdown",
   "metadata": {},
   "source": [
    "### Space Methods"
   ]
  },
  {
   "cell_type": "code",
   "execution_count": 6,
   "metadata": {},
   "outputs": [],
   "source": [
    "class TestSpaceMethods(unittest.TestCase):\n",
    "    \n",
    "    def test_posToChar(self):\n",
    "        self.assertEqual(S.posToChar(25),'Z')\n",
    "        \n",
    "    def test_intToChar(self):\n",
    "        self.assertEqual(S.intToChar(51),'AZ')\n",
    "    \n",
    "    def test_nodesToDF(self):\n",
    "        self.assertEqual(S.nodesToDF().sort_index().loc['A','x'],70)\n",
    "    \n",
    "    def test_getDistances(self):\n",
    "        S.getDistances()\n",
    "        self.assertEqual(S.totalDistances[('A','A')],0)\n",
    "    \n",
    "    def test_getDistance(self):\n",
    "        self.assertEqual(S.getDistance(('A','B'),2,0),55.08175741568164)\n",
    "        \n",
    "    def test_getTotalDistance(self):\n",
    "        self.assertEqual(S.getTotalDistance(('A','B','C','D')),183.18252656010577)\n",
    "    "
   ]
  },
  {
   "cell_type": "markdown",
   "metadata": {},
   "source": [
    "### Naive"
   ]
  },
  {
   "cell_type": "code",
   "execution_count": 7,
   "metadata": {},
   "outputs": [],
   "source": [
    "N = tsp.Naive()"
   ]
  },
  {
   "cell_type": "code",
   "execution_count": 8,
   "metadata": {
    "collapsed": true
   },
   "outputs": [],
   "source": [
    "S.permutations = [['A','B'],['C','D']]"
   ]
  },
  {
   "cell_type": "code",
   "execution_count": 9,
   "metadata": {},
   "outputs": [],
   "source": [
    "class TestNaiveMethods(unittest.TestCase):\n",
    "\n",
    "    def test_permutation(self):\n",
    "        self.assertEqual(N.permutation(['A','B','C']),\n",
    "                        [['A', 'B', 'C'],\n",
    "                         ['A', 'C', 'B'],\n",
    "                         ['B', 'A', 'C'],\n",
    "                         ['B', 'C', 'A'],\n",
    "                         ['C', 'A', 'B'],\n",
    "                         ['C', 'B', 'A']])\n",
    "    \n",
    "    def test_getBest(self):\n",
    "        self.assertEqual(N.getBest(S,False),['C','D'])\n"
   ]
  },
  {
   "cell_type": "markdown",
   "metadata": {},
   "source": [
    "### Greedy"
   ]
  },
  {
   "cell_type": "code",
   "execution_count": 10,
   "metadata": {},
   "outputs": [],
   "source": [
    "G = tsp.Greedy()"
   ]
  },
  {
   "cell_type": "code",
   "execution_count": 11,
   "metadata": {},
   "outputs": [],
   "source": [
    "class TestGreedyMethods(unittest.TestCase):\n",
    "\n",
    "    def test_getMinRowCol(self):\n",
    "        self.assertEqual(G.getMinRowCol(S.distances),('C', 'D'))\n"
   ]
  },
  {
   "cell_type": "markdown",
   "metadata": {},
   "source": [
    "### Optimization"
   ]
  },
  {
   "cell_type": "code",
   "execution_count": 12,
   "metadata": {},
   "outputs": [],
   "source": [
    "O = tsp.Optimization()\n",
    "model = pulp.LpProblem(\"TSP\", pulp.LpMinimize)"
   ]
  },
  {
   "cell_type": "code",
   "execution_count": 13,
   "metadata": {},
   "outputs": [],
   "source": [
    "class TestOptimizationMethods(unittest.TestCase):\n",
    "\n",
    "    def test_identifySubtourFromTuples(self):\n",
    "        self.assertEqual(O.identifySubtourFromTuples(S,[('A', 'B'), ('B', 'A'),\n",
    "                                                        ('C', 'D'), ('D', 'C'),\n",
    "                                                        ('E', 'F'), ('F', 'E')]),\n",
    "                         \n",
    "                                                     [[('A', 'B'), ('B', 'A')], \n",
    "                                                      [('C', 'D'), ('D', 'C')], \n",
    "                                                      [('E', 'F'), ('F', 'E')]])\n",
    "        \n",
    "    def test_getColInd(self):\n",
    "        self.assertEqual(O.getColInd(('A','B'),S),(1,3))\n",
    "        \n",
    "    def test_tupleToSolution(self): \n",
    "        self.assertEqual(O.tupleToSolution([[('A', 'F'), ('F', 'C'), \n",
    "                                             ('C', 'A'),('B', 'D'), \n",
    "                                             ('D', 'E'), ('E', 'B')]]),\n",
    "                         \n",
    "                                            ['A', 'F', 'C', 'B', 'D', 'E'])\n",
    "        "
   ]
  },
  {
   "cell_type": "code",
   "execution_count": 14,
   "metadata": {},
   "outputs": [
    {
     "name": "stderr",
     "output_type": "stream",
     "text": [
      "............\n",
      "----------------------------------------------------------------------\n",
      "Ran 12 tests in 0.023s\n",
      "\n",
      "OK\n"
     ]
    },
    {
     "data": {
      "text/plain": [
       "<unittest.main.TestProgram at 0x2a8d1cbc5f8>"
      ]
     },
     "execution_count": 14,
     "metadata": {},
     "output_type": "execute_result"
    }
   ],
   "source": [
    "unittest.main(argv=['first-arg-is-ignored'], exit=False)"
   ]
  },
  {
   "cell_type": "code",
   "execution_count": null,
   "metadata": {
    "collapsed": true
   },
   "outputs": [],
   "source": []
  }
 ],
 "metadata": {
  "anaconda-cloud": {},
  "kernelspec": {
   "display_name": "Python 3",
   "language": "python",
   "name": "python3"
  },
  "language_info": {
   "codemirror_mode": {
    "name": "ipython",
    "version": 3
   },
   "file_extension": ".py",
   "mimetype": "text/x-python",
   "name": "python",
   "nbconvert_exporter": "python",
   "pygments_lexer": "ipython3",
   "version": "3.5.3"
  }
 },
 "nbformat": 4,
 "nbformat_minor": 1
}
